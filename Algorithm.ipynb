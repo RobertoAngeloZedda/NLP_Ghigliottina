{
 "cells": [
  {
   "cell_type": "code",
   "execution_count": 1,
   "id": "3deb20b7-7808-4ffe-9899-022ec67cedc7",
   "metadata": {
    "tags": []
   },
   "outputs": [],
   "source": [
    "''' Given a word, a dictinary and a tokenized corpus via file path\n",
    "    returns the list of lines containing those words '''\n",
    "\n",
    "def get_lines_with_word(word: str, dictionary: dict, file_name: str):\n",
    "    phrases = []\n",
    "    \n",
    "    corpus_file = open(file_name)\n",
    "    \n",
    "    for line in corpus_file:\n",
    "        line = line.split()\n",
    "        for token in line:\n",
    "            token = int(token)\n",
    "            \n",
    "            if token == dictionary[word]:\n",
    "                phrases.append([int(e) for e in line])\n",
    "                break\n",
    "            \n",
    "    corpus_file.close()\n",
    "    \n",
    "    return phrases"
   ]
  },
  {
   "cell_type": "code",
   "execution_count": 2,
   "id": "97be4d93-163c-4dd8-ae6c-b7c67ca7b354",
   "metadata": {
    "tags": []
   },
   "outputs": [],
   "source": [
    "''' Given: \n",
    "    - a dictionary used as co-occurrence matrix to store the co-occurrences in\n",
    "    - an integer representing the size of the sliding window\n",
    "    - a list of tokenized lines (the corpus)\n",
    "    - a token representing the word to compute the co-occurrences for\n",
    "    Updates the given co-occurrence matrix '''        \n",
    "\n",
    "def update_co_occ(co_occurrences: dict, window_size: int, corpus: list, clue: int):\n",
    "    for line in corpus:\n",
    "        for index, word in enumerate(line):\n",
    "            if word == clue:\n",
    "                for window_index in range(max(0, index - window_size), min(len(line), index + window_size + 1)):\n",
    "                    candidate = line[window_index]\n",
    "                    if candidate != clue and candidate != 0:\n",
    "                        if (clue, candidate) in co_occurrences:\n",
    "                            co_occurrences[(clue, candidate)] += 1\n",
    "                        else:\n",
    "                            co_occurrences[(clue, candidate)] = 1"
   ]
  },
  {
   "cell_type": "code",
   "execution_count": 3,
   "id": "d70be1a5-4a2b-464d-99c8-e388f0fa5c43",
   "metadata": {
    "tags": []
   },
   "outputs": [],
   "source": [
    "import math\n",
    "\n",
    "''' Given a list of dictionary representing the sparce co-occurrence matrix of each corpus,\n",
    "    a list of couples (word, times the word appears) being the distribution of words\n",
    "    and a list of weights (int) (one for each corpus)\n",
    "    calculates and returns a dictionary containing the sparse PMI matrix '''\n",
    "\n",
    "def calculate_pmi(co_occ, distribution, weights):\n",
    "    pmi = {}\n",
    "\n",
    "    for i in range(len(co_occ)):\n",
    "        for ((c, s), v) in co_occ[i].items():\n",
    "            if (c, s) in pmi:\n",
    "                pmi[(c, s)] += v * weights[i]\n",
    "            else:\n",
    "                pmi[(c, s)] = v * weights[i]\n",
    "    \n",
    "    for ((c, s), v) in pmi.items():\n",
    "        if c in distribution:\n",
    "            cc = distribution[c]\n",
    "        else:\n",
    "            cc = 1000000\n",
    "        if s in distribution:\n",
    "            ss = distribution[s]\n",
    "        else:\n",
    "            ss = 1000000\n",
    "        pmi[(c, s)] = math.log(v / (cc * ss))\n",
    "\n",
    "    return pmi"
   ]
  },
  {
   "cell_type": "code",
   "execution_count": 4,
   "id": "9272f878-95b4-491c-9a14-7c053ca4cfd0",
   "metadata": {
    "tags": []
   },
   "outputs": [],
   "source": [
    "''' Given a dictionary containing a sparse PMI matrix \n",
    "    calculates the mean of the PMI values of couples with same solution\n",
    "    converts the result into a list, sorts it and returns it'''\n",
    "\n",
    "def calculate_solutions(pmi: dict):\n",
    "    min_val = 0\n",
    "    \n",
    "    solutions = {}\n",
    "    found_solutions = {}\n",
    "    for (clue, sol), val in pmi.items():\n",
    "        if val < min_val:\n",
    "            min_val = val\n",
    "        \n",
    "        if sol in solutions:\n",
    "            solutions[sol] += val\n",
    "            found_solutions[sol] += 1\n",
    "        else:\n",
    "            solutions[sol] = val\n",
    "            found_solutions[sol] = 1\n",
    "    \n",
    "    for sol, val in solutions.items():\n",
    "        solutions[sol] += min_val * (5 - found_solutions[sol])\n",
    "        solutions[sol] /= 5\n",
    "    \n",
    "    sorted_solutions = sorted(list(solutions.items()), key=lambda x: x[1], reverse=True)\n",
    "    \n",
    "    return sorted_solutions"
   ]
  },
  {
   "cell_type": "code",
   "execution_count": 9,
   "id": "143d699b-3ad6-4fad-b786-31668c3653f5",
   "metadata": {
    "tags": []
   },
   "outputs": [],
   "source": [
    "# Resources to calculate PMI denominator\n",
    "\n",
    "# Whitelist (as distribution)\n",
    "distribution_file = open('Corpus/whitelist.txt')\n",
    "distribution = {line.split(', ')[0]: int(line[:-1].split(', ')[1]) for line in distribution_file}\n",
    "distribution_file.close()\n",
    "\n",
    "dictionary = {t: i+1 for i, (t, c) in enumerate(distribution.items())}\n",
    "inverted_dictionary = {i: t for t, i in dictionary.items()}\n",
    "distribution = {i+1: c for i, (t, c) in enumerate(distribution.items())}"
   ]
  },
  {
   "cell_type": "code",
   "execution_count": 13,
   "id": "165e4450-82ea-42b9-864e-39c8655a30e3",
   "metadata": {
    "tags": []
   },
   "outputs": [],
   "source": [
    "''' Given a list of clues, tries to find the solution to the Ghigliottina quiz '''\n",
    "\n",
    "def ghigliottina(clues: list):\n",
    "    clues = [c.lower() for c in clues]\n",
    "\n",
    "    paisa_co_occ = {}\n",
    "    colloc_co_occ = {}\n",
    "    demauro_co_occ = {}\n",
    "    sayings_co_occ = {}\n",
    "    songs_co_occ = {}\n",
    "    \n",
    "    for clue in clues:\n",
    "        if clue in dictionary:\n",
    "            \n",
    "            paisa_lines = get_lines_with_word(clue, dictionary, 'Corpus/paisa_tokenization.txt')\n",
    "            colloc_lines = get_lines_with_word(clue, dictionary, 'Corpus/collocazioni_tokenization.txt')\n",
    "            demauro_lines = get_lines_with_word(clue, dictionary, 'Corpus/polirematics_tokenization.txt')\n",
    "            sayings_lines = get_lines_with_word(clue, dictionary, 'Corpus/sayings_tokenization.txt')\n",
    "            songs_lines = get_lines_with_word(clue, dictionary, 'Corpus/songs_tokenization.txt')\n",
    "\n",
    "            update_co_occ(paisa_co_occ, 3, paisa_lines, dictionary[clue])\n",
    "            update_co_occ(colloc_co_occ, 10, colloc_lines, dictionary[clue])\n",
    "            update_co_occ(demauro_co_occ, 10, demauro_lines, dictionary[clue])\n",
    "            update_co_occ(sayings_co_occ, 10, sayings_lines, dictionary[clue])\n",
    "            update_co_occ(songs_co_occ, 10, songs_lines, dictionary[clue])\n",
    "\n",
    "    co_occ = [paisa_co_occ,\n",
    "              colloc_co_occ, \n",
    "              demauro_co_occ, \n",
    "              sayings_co_occ, \n",
    "              songs_co_occ]\n",
    "\n",
    "    weights = [1, 100, 200, 100, 50]\n",
    "\n",
    "    pmi = calculate_pmi(co_occ, distribution, weights)\n",
    "\n",
    "    solutions = calculate_solutions(pmi)\n",
    "    \n",
    "    return solutions[:5]"
   ]
  },
  {
   "cell_type": "code",
   "execution_count": null,
   "id": "85505420-e723-4c95-862e-5b1491524d1c",
   "metadata": {},
   "outputs": [],
   "source": []
  }
 ],
 "metadata": {
  "kernelspec": {
   "display_name": "Python 3 (ipykernel)",
   "language": "python",
   "name": "python3"
  },
  "language_info": {
   "codemirror_mode": {
    "name": "ipython",
    "version": 3
   },
   "file_extension": ".py",
   "mimetype": "text/x-python",
   "name": "python",
   "nbconvert_exporter": "python",
   "pygments_lexer": "ipython3",
   "version": "3.8.10"
  }
 },
 "nbformat": 4,
 "nbformat_minor": 5
}
